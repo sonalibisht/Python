{
 "cells": [
  {
   "cell_type": "code",
   "execution_count": 5,
   "id": "7736efcf",
   "metadata": {},
   "outputs": [
    {
     "name": "stdout",
     "output_type": "stream",
     "text": [
      "610\n"
     ]
    }
   ],
   "source": [
    "#solution 1\n",
    "number=15\n",
    "def fibo(n):\n",
    "    if n==0:\n",
    "        return 0\n",
    "    elif n==1:\n",
    "        return 1\n",
    "    else :\n",
    "        return fibo(n-1)+fibo(n-2)\n",
    "print(fibo(number))\n"
   ]
  },
  {
   "cell_type": "code",
   "execution_count": 9,
   "id": "0168befe",
   "metadata": {},
   "outputs": [
    {
     "name": "stdout",
     "output_type": "stream",
     "text": [
      "Number is a fibonacci\n"
     ]
    }
   ],
   "source": [
    "#solution 2 \n",
    "number =13\n",
    "c=0\n",
    "a=1\n",
    "b=1\n",
    "if number==0 or number==1:\n",
    "    print(\"Number is a fibonacci\")\n",
    "else:\n",
    "    while c<number:\n",
    "        c=a+b\n",
    "        b=a\n",
    "        a=c\n",
    "    if c==number:\n",
    "        print(\"Number is a fibonacci\")\n",
    "    else:\n",
    "        print(\"Number is not a fibonacci\")"
   ]
  },
  {
   "cell_type": "code",
   "execution_count": null,
   "id": "f2b26d7a",
   "metadata": {},
   "outputs": [],
   "source": [
    "#solution 3\n"
   ]
  },
  {
   "cell_type": "code",
   "execution_count": 14,
   "id": "37b421d1",
   "metadata": {},
   "outputs": [
    {
     "name": "stdout",
     "output_type": "stream",
     "text": [
      "55\n"
     ]
    }
   ],
   "source": [
    "#solution 5\n",
    "number =5\n",
    "result=0\n",
    "for i in range(1,number+1):\n",
    "    result=result+i*i\n",
    "print(result)"
   ]
  },
  {
   "cell_type": "code",
   "execution_count": 15,
   "id": "99f19ae1",
   "metadata": {},
   "outputs": [
    {
     "name": "stdout",
     "output_type": "stream",
     "text": [
      "225\n"
     ]
    }
   ],
   "source": [
    "#solution 6\n",
    "number =5\n",
    "result=0\n",
    "for i in range(1,number+1):\n",
    "    result=result+i*i*i\n",
    "print(result)"
   ]
  },
  {
   "cell_type": "code",
   "execution_count": null,
   "id": "374a4f68",
   "metadata": {},
   "outputs": [],
   "source": []
  }
 ],
 "metadata": {
  "kernelspec": {
   "display_name": "Python 3",
   "language": "python",
   "name": "python3"
  },
  "language_info": {
   "codemirror_mode": {
    "name": "ipython",
    "version": 3
   },
   "file_extension": ".py",
   "mimetype": "text/x-python",
   "name": "python",
   "nbconvert_exporter": "python",
   "pygments_lexer": "ipython3",
   "version": "3.8.8"
  }
 },
 "nbformat": 4,
 "nbformat_minor": 5
}
