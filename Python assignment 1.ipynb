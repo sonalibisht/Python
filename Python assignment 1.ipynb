{
 "cells": [
  {
   "cell_type": "code",
   "execution_count": 7,
   "id": "1bcbdd1d",
   "metadata": {},
   "outputs": [
    {
     "name": "stdout",
     "output_type": "stream",
     "text": [
      "1505\n",
      "1540\n",
      "1575\n",
      "1610\n",
      "1645\n",
      "1680\n",
      "1715\n",
      "1750\n",
      "1785\n",
      "1820\n",
      "1855\n",
      "1890\n",
      "1925\n",
      "1960\n",
      "1995\n",
      "2030\n",
      "2065\n",
      "2100\n",
      "2135\n",
      "2170\n",
      "2205\n",
      "2240\n",
      "2275\n",
      "2310\n",
      "2345\n",
      "2380\n",
      "2415\n",
      "2450\n",
      "2485\n",
      "2520\n",
      "2555\n",
      "2590\n",
      "2625\n",
      "2660\n",
      "2695\n"
     ]
    }
   ],
   "source": [
    "#solution 1\n",
    "start = 1500\n",
    "end = 2700\n",
    "for i in range(start,end+1):\n",
    "    if i % 5 == 0:\n",
    "        if i % 7 ==0:\n",
    "            print(i)"
   ]
  },
  {
   "cell_type": "code",
   "execution_count": 8,
   "id": "8a27c8ec",
   "metadata": {},
   "outputs": [
    {
     "name": "stdout",
     "output_type": "stream",
     "text": [
      "13\n"
     ]
    }
   ],
   "source": [
    "#solution 2:\n",
    "one=5\n",
    "two=8\n",
    "add=one+two\n",
    "print(add)"
   ]
  },
  {
   "cell_type": "code",
   "execution_count": 10,
   "id": "6420cdb8",
   "metadata": {},
   "outputs": [
    {
     "name": "stdout",
     "output_type": "stream",
     "text": [
      "8\n"
     ]
    }
   ],
   "source": [
    "#solution 3:\n",
    "one=5\n",
    "two=8\n",
    "maximum = 5\n",
    "if maximum <two:\n",
    "    maximum =two\n",
    "print(maximum)"
   ]
  },
  {
   "cell_type": "code",
   "execution_count": 14,
   "id": "8a7e2aa5",
   "metadata": {},
   "outputs": [
    {
     "name": "stdout",
     "output_type": "stream",
     "text": [
      "5040\n"
     ]
    }
   ],
   "source": [
    "#solution 4\n",
    "num = 7\n",
    "result=0\n",
    "def fact(n):\n",
    "    if n ==0:\n",
    "        return n\n",
    "    elif n ==1:\n",
    "        return n \n",
    "    else :\n",
    "        return n*fact(n-1)\n",
    "result=fact(num)\n",
    "print(result)"
   ]
  },
  {
   "cell_type": "code",
   "execution_count": 16,
   "id": "9e43cd69",
   "metadata": {},
   "outputs": [
    {
     "name": "stdout",
     "output_type": "stream",
     "text": [
      "500\n"
     ]
    }
   ],
   "source": [
    "#solution 5\n",
    "principle=100\n",
    "rate=2\n",
    "time=2\n",
    "SI = Principal*(1+rate*time)\n",
    "print(SI)"
   ]
  },
  {
   "cell_type": "code",
   "execution_count": 18,
   "id": "cbd9ec48",
   "metadata": {},
   "outputs": [
    {
     "name": "stdout",
     "output_type": "stream",
     "text": [
      "4.039999999999992\n"
     ]
    }
   ],
   "source": [
    "#solution 6\n",
    "principle=100\n",
    "rate=2\n",
    "time=2\n",
    "\n",
    "Amount = principle * (pow((1 + rate / 100), time))\n",
    "CI = Amount - principle\n",
    "print(CI)"
   ]
  },
  {
   "cell_type": "code",
   "execution_count": 22,
   "id": "1e55e4a7",
   "metadata": {},
   "outputs": [
    {
     "name": "stdout",
     "output_type": "stream",
     "text": [
      "The number is an Armstrong\n"
     ]
    }
   ],
   "source": [
    "#soution 7\n",
    "num=407\n",
    "length=len(str(num))\n",
    "temp=num\n",
    "sum=0\n",
    "while temp>0:\n",
    "    digit=temp%10\n",
    "    sum=sum+pow(digit,length)\n",
    "    temp=temp//10\n",
    "if sum==num:\n",
    "    print(\"The number is an Armstrong\")\n",
    "else:\n",
    "    print(\"The number is not an Armstrong\")"
   ]
  },
  {
   "cell_type": "code",
   "execution_count": 27,
   "id": "7da41fc6",
   "metadata": {},
   "outputs": [
    {
     "name": "stdout",
     "output_type": "stream",
     "text": [
      "78.5\n"
     ]
    }
   ],
   "source": [
    "#solution 8\n",
    "raidus =5\n",
    "pi=3.14\n",
    "area=pi*pow(raidus,2)\n",
    "print(area)"
   ]
  },
  {
   "cell_type": "code",
   "execution_count": 35,
   "id": "98cac7f9",
   "metadata": {},
   "outputs": [
    {
     "name": "stdout",
     "output_type": "stream",
     "text": [
      "3 is a prime number\n",
      "5 is a prime number\n",
      "7 is a prime number\n",
      "11 is a prime number\n",
      "13 is a prime number\n",
      "17 is a prime number\n",
      "19 is a prime number\n",
      "23 is a prime number\n",
      "29 is a prime number\n",
      "31 is a prime number\n",
      "37 is a prime number\n",
      "41 is a prime number\n",
      "43 is a prime number\n",
      "47 is a prime number\n",
      "53 is a prime number\n",
      "59 is a prime number\n",
      "61 is a prime number\n",
      "67 is a prime number\n",
      "71 is a prime number\n",
      "73 is a prime number\n",
      "79 is a prime number\n",
      "83 is a prime number\n",
      "89 is a prime number\n",
      "97 is a prime number\n"
     ]
    }
   ],
   "source": [
    "#solution 9\n",
    "start = 3\n",
    "end =100\n",
    "\n",
    "for i in range(start,end):\n",
    "    flag=0\n",
    "    for j in range(2,int(i/2+1)):\n",
    "        if i%j == 0:\n",
    "            flag=1\n",
    "            break\n",
    "    if flag==0:\n",
    "        print(i,\"is a prime number\")"
   ]
  },
  {
   "cell_type": "code",
   "execution_count": 37,
   "id": "3c712fd7",
   "metadata": {},
   "outputs": [
    {
     "name": "stdout",
     "output_type": "stream",
     "text": [
      "13 is a prime number\n"
     ]
    }
   ],
   "source": [
    "#solution 10\n",
    "num=13\n",
    "flag=0\n",
    "for j in range(2,int(num/2+1)):\n",
    "    if num%j == 0:\n",
    "        flag=1\n",
    "        break\n",
    "if flag==0:\n",
    "    print(num,\"is a prime number\")"
   ]
  }
 ],
 "metadata": {
  "kernelspec": {
   "display_name": "Python 3",
   "language": "python",
   "name": "python3"
  },
  "language_info": {
   "codemirror_mode": {
    "name": "ipython",
    "version": 3
   },
   "file_extension": ".py",
   "mimetype": "text/x-python",
   "name": "python",
   "nbconvert_exporter": "python",
   "pygments_lexer": "ipython3",
   "version": "3.8.8"
  }
 },
 "nbformat": 4,
 "nbformat_minor": 5
}
